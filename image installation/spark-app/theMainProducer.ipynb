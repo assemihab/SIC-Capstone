{
 "cells": [
  {
   "cell_type": "code",
   "execution_count": 11,
   "metadata": {},
   "outputs": [
    {
     "name": "stderr",
     "output_type": "stream",
     "text": [
      "C:\\Users\\dell\\AppData\\Local\\Temp\\ipykernel_12764\\2216046290.py:6: DtypeWarning: Columns (5,10,19,20) have mixed types. Specify dtype option on import or set low_memory=False.\n",
      "  fitdf=pd.read_csv('hourly_fitbit_sema_df_unprocessed.csv')\n"
     ]
    },
    {
     "name": "stdout",
     "output_type": "stream",
     "text": [
      "Number of unique date_hour:  5945\n",
      "Sent a subset of data to Kafka\n",
      "Sent a subset of data to Kafka\n",
      "Sent a subset of data to Kafka\n",
      "Sent a subset of data to Kafka\n",
      "Sent a subset of data to Kafka\n",
      "Sent a subset of data to Kafka\n",
      "Sent a subset of data to Kafka\n",
      "Sent a subset of data to Kafka\n",
      "Sent a subset of data to Kafka\n",
      "Sent a subset of data to Kafka\n",
      "Sent a subset of data to Kafka\n",
      "Sent a subset of data to Kafka\n",
      "Sent a subset of data to Kafka\n"
     ]
    },
    {
     "ename": "KeyboardInterrupt",
     "evalue": "",
     "output_type": "error",
     "traceback": [
      "\u001b[1;31m---------------------------------------------------------------------------\u001b[0m",
      "\u001b[1;31mKeyboardInterrupt\u001b[0m                         Traceback (most recent call last)",
      "Cell \u001b[1;32mIn[11], line 32\u001b[0m\n\u001b[0;32m     29\u001b[0m subsett\u001b[38;5;241m=\u001b[39msubset\u001b[38;5;241m.\u001b[39mto_dict(orient\u001b[38;5;241m=\u001b[39m\u001b[38;5;124m'\u001b[39m\u001b[38;5;124mrecords\u001b[39m\u001b[38;5;124m'\u001b[39m)\n\u001b[0;32m     31\u001b[0m producer\u001b[38;5;241m.\u001b[39msend(TOPIC_NAME, value\u001b[38;5;241m=\u001b[39msubsett)\n\u001b[1;32m---> 32\u001b[0m time\u001b[38;5;241m.\u001b[39msleep(\u001b[38;5;241m1\u001b[39m)  \u001b[38;5;66;03m# Sleep for 1 second\u001b[39;00m\n\u001b[0;32m     33\u001b[0m \u001b[38;5;28mprint\u001b[39m(\u001b[38;5;124m'\u001b[39m\u001b[38;5;124mSent a subset of data to Kafka\u001b[39m\u001b[38;5;124m'\u001b[39m)\n",
      "\u001b[1;31mKeyboardInterrupt\u001b[0m: "
     ]
    }
   ],
   "source": [
    "# %%\n",
    "import pandas as pd\n",
    "import json\n",
    "import time\n",
    "from kafka import KafkaProducer\n",
    "fitdf=pd.read_csv('hourly_fitbit_sema_df_unprocessed.csv')\n",
    "fitdf = fitdf.dropna(axis=1, thresh=0.5*len(fitdf))\n",
    "fitdf.head()\n",
    "fitdf = fitdf.drop('Unnamed: 0', axis=1)\n",
    "fitdf.head()\n",
    "fitdf['datee'] = pd.to_datetime(fitdf['date'])\n",
    "fitdf['hour'] = fitdf['hour'].astype(int)\n",
    "sorted_df = fitdf.sort_values(by=['datee', 'hour'])\n",
    "sorted_df.head()\n",
    "BROKER_URL = 'localhost:9092'\n",
    "TOPIC_NAME = 'mindf'\n",
    "producer = KafkaProducer(\n",
    "    bootstrap_servers=BROKER_URL,\n",
    "    value_serializer=lambda v: json.dumps(v).encode('utf-8') \n",
    ")\n",
    "sorted_df['date_hour'] = sorted_df['datee'].astype(str) + ' ' + sorted_df['hour'].astype(str)\n",
    "sorted_df['date_hour'] = pd.to_datetime(sorted_df['date_hour'])\n",
    "uniqueDateHour = sorted_df['date_hour'].unique()\n",
    "print('Number of unique date_hour: ', len(uniqueDateHour))\n",
    "for i in range(0, len(uniqueDateHour)):\n",
    "    # print('Date_hour: ', uniqueDateHour[i])\n",
    "    subset=sorted_df[sorted_df['date_hour'] == uniqueDateHour[i]]\n",
    "    subset=subset.drop(['datee', 'date_hour'], axis=1)\n",
    "    subsett=subset.to_dict(orient='records')\n",
    "    \n",
    "    producer.send(TOPIC_NAME, value=subsett)\n",
    "    time.sleep(1)  # Sleep for 1 second\n",
    "    print('Sent a subset of data to Kafka')"
   ]
  },
  {
   "cell_type": "code",
   "execution_count": null,
   "metadata": {},
   "outputs": [],
   "source": []
  }
 ],
 "metadata": {
  "kernelspec": {
   "display_name": "Python 3",
   "language": "python",
   "name": "python3"
  },
  "language_info": {
   "codemirror_mode": {
    "name": "ipython",
    "version": 3
   },
   "file_extension": ".py",
   "mimetype": "text/x-python",
   "name": "python",
   "nbconvert_exporter": "python",
   "pygments_lexer": "ipython3",
   "version": "3.11.5"
  }
 },
 "nbformat": 4,
 "nbformat_minor": 2
}
